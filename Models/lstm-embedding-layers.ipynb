{
 "cells": [
  {
   "cell_type": "code",
   "execution_count": 1,
   "id": "3a6f1e3a",
   "metadata": {
    "_cell_guid": "b1076dfc-b9ad-4769-8c92-a6c4dae69d19",
    "_uuid": "8f2839f25d086af736a60e9eeb907d3b93b6e0e5",
    "execution": {
     "iopub.execute_input": "2023-12-21T21:15:45.835707Z",
     "iopub.status.busy": "2023-12-21T21:15:45.835317Z",
     "iopub.status.idle": "2023-12-21T21:15:45.847879Z",
     "shell.execute_reply": "2023-12-21T21:15:45.846633Z"
    },
    "papermill": {
     "duration": 0.022799,
     "end_time": "2023-12-21T21:15:45.849728",
     "exception": false,
     "start_time": "2023-12-21T21:15:45.826929",
     "status": "completed"
    },
    "tags": []
   },
   "outputs": [
    {
     "name": "stdout",
     "output_type": "stream",
     "text": [
      "/kaggle/input/web-traffic-time-series-forecasting/sample_submission_2.csv.zip\n",
      "/kaggle/input/web-traffic-time-series-forecasting/sample_submission_1.csv.zip\n",
      "/kaggle/input/web-traffic-time-series-forecasting/train_2.csv.zip\n",
      "/kaggle/input/web-traffic-time-series-forecasting/key_1.csv.zip\n",
      "/kaggle/input/web-traffic-time-series-forecasting/key_2.csv.zip\n",
      "/kaggle/input/web-traffic-time-series-forecasting/train_1.csv.zip\n"
     ]
    }
   ],
   "source": [
    "import os\n",
    "for dirname, _, filenames in os.walk('/kaggle/input'):\n",
    "    for filename in filenames:\n",
    "        print(os.path.join(dirname, filename))\n"
   ]
  },
  {
   "cell_type": "code",
   "execution_count": 2,
   "id": "fe04d5cd",
   "metadata": {
    "execution": {
     "iopub.execute_input": "2023-12-21T21:15:45.864253Z",
     "iopub.status.busy": "2023-12-21T21:15:45.863927Z",
     "iopub.status.idle": "2023-12-21T21:15:59.077835Z",
     "shell.execute_reply": "2023-12-21T21:15:59.076903Z"
    },
    "papermill": {
     "duration": 13.223694,
     "end_time": "2023-12-21T21:15:59.080223",
     "exception": false,
     "start_time": "2023-12-21T21:15:45.856529",
     "status": "completed"
    },
    "tags": []
   },
   "outputs": [
    {
     "name": "stderr",
     "output_type": "stream",
     "text": [
      "/opt/conda/lib/python3.10/site-packages/scipy/__init__.py:146: UserWarning: A NumPy version >=1.16.5 and <1.23.0 is required for this version of SciPy (detected version 1.24.3\n",
      "  warnings.warn(f\"A NumPy version >={np_minversion} and <{np_maxversion}\"\n"
     ]
    }
   ],
   "source": [
    "import numpy as np \n",
    "import pandas as pd \n",
    "import re\n",
    "import matplotlib.pyplot as plt\n",
    "from collections import Counter\n",
    "from sklearn.preprocessing import MinMaxScaler\n",
    "from tqdm import tqdm\n",
    "from tqdm import tnrange\n",
    "from sklearn.preprocessing import LabelEncoder\n",
    "import tensorflow as tf\n",
    "import datetime\n",
    "from keras.layers import Dropout\n",
    "from keras.callbacks import EarlyStopping\n",
    "from tensorflow.keras.models import Model\n",
    "from tensorflow.keras.layers import Dense,Input,LSTM,Flatten,Embedding,Concatenate"
   ]
  },
  {
   "cell_type": "code",
   "execution_count": 3,
   "id": "880333ab",
   "metadata": {
    "execution": {
     "iopub.execute_input": "2023-12-21T21:15:59.095536Z",
     "iopub.status.busy": "2023-12-21T21:15:59.094445Z",
     "iopub.status.idle": "2023-12-21T21:16:18.984676Z",
     "shell.execute_reply": "2023-12-21T21:16:18.983735Z"
    },
    "papermill": {
     "duration": 19.899898,
     "end_time": "2023-12-21T21:16:18.986883",
     "exception": false,
     "start_time": "2023-12-21T21:15:59.086985",
     "status": "completed"
    },
    "tags": []
   },
   "outputs": [
    {
     "data": {
      "text/html": [
       "<div>\n",
       "<style scoped>\n",
       "    .dataframe tbody tr th:only-of-type {\n",
       "        vertical-align: middle;\n",
       "    }\n",
       "\n",
       "    .dataframe tbody tr th {\n",
       "        vertical-align: top;\n",
       "    }\n",
       "\n",
       "    .dataframe thead th {\n",
       "        text-align: right;\n",
       "    }\n",
       "</style>\n",
       "<table border=\"1\" class=\"dataframe\">\n",
       "  <thead>\n",
       "    <tr style=\"text-align: right;\">\n",
       "      <th></th>\n",
       "      <th>Page</th>\n",
       "      <th>2015-07-01</th>\n",
       "      <th>2015-07-02</th>\n",
       "      <th>2015-07-03</th>\n",
       "      <th>2015-07-04</th>\n",
       "      <th>2015-07-05</th>\n",
       "      <th>2015-07-06</th>\n",
       "      <th>2015-07-07</th>\n",
       "      <th>2015-07-08</th>\n",
       "      <th>2015-07-09</th>\n",
       "      <th>...</th>\n",
       "      <th>2017-09-01</th>\n",
       "      <th>2017-09-02</th>\n",
       "      <th>2017-09-03</th>\n",
       "      <th>2017-09-04</th>\n",
       "      <th>2017-09-05</th>\n",
       "      <th>2017-09-06</th>\n",
       "      <th>2017-09-07</th>\n",
       "      <th>2017-09-08</th>\n",
       "      <th>2017-09-09</th>\n",
       "      <th>2017-09-10</th>\n",
       "    </tr>\n",
       "  </thead>\n",
       "  <tbody>\n",
       "    <tr>\n",
       "      <th>0</th>\n",
       "      <td>2NE1_zh.wikipedia.org_all-access_spider</td>\n",
       "      <td>18.0</td>\n",
       "      <td>11.0</td>\n",
       "      <td>5.0</td>\n",
       "      <td>13.0</td>\n",
       "      <td>14.0</td>\n",
       "      <td>9.0</td>\n",
       "      <td>9.0</td>\n",
       "      <td>22.0</td>\n",
       "      <td>26.0</td>\n",
       "      <td>...</td>\n",
       "      <td>19.0</td>\n",
       "      <td>33.0</td>\n",
       "      <td>33.0</td>\n",
       "      <td>18.0</td>\n",
       "      <td>16.0</td>\n",
       "      <td>27.0</td>\n",
       "      <td>29.0</td>\n",
       "      <td>23.0</td>\n",
       "      <td>54.0</td>\n",
       "      <td>38.0</td>\n",
       "    </tr>\n",
       "    <tr>\n",
       "      <th>1</th>\n",
       "      <td>2PM_zh.wikipedia.org_all-access_spider</td>\n",
       "      <td>11.0</td>\n",
       "      <td>14.0</td>\n",
       "      <td>15.0</td>\n",
       "      <td>18.0</td>\n",
       "      <td>11.0</td>\n",
       "      <td>13.0</td>\n",
       "      <td>22.0</td>\n",
       "      <td>11.0</td>\n",
       "      <td>10.0</td>\n",
       "      <td>...</td>\n",
       "      <td>32.0</td>\n",
       "      <td>30.0</td>\n",
       "      <td>11.0</td>\n",
       "      <td>19.0</td>\n",
       "      <td>54.0</td>\n",
       "      <td>25.0</td>\n",
       "      <td>26.0</td>\n",
       "      <td>23.0</td>\n",
       "      <td>13.0</td>\n",
       "      <td>81.0</td>\n",
       "    </tr>\n",
       "    <tr>\n",
       "      <th>2</th>\n",
       "      <td>3C_zh.wikipedia.org_all-access_spider</td>\n",
       "      <td>1.0</td>\n",
       "      <td>0.0</td>\n",
       "      <td>1.0</td>\n",
       "      <td>1.0</td>\n",
       "      <td>0.0</td>\n",
       "      <td>4.0</td>\n",
       "      <td>0.0</td>\n",
       "      <td>3.0</td>\n",
       "      <td>4.0</td>\n",
       "      <td>...</td>\n",
       "      <td>6.0</td>\n",
       "      <td>6.0</td>\n",
       "      <td>7.0</td>\n",
       "      <td>2.0</td>\n",
       "      <td>4.0</td>\n",
       "      <td>7.0</td>\n",
       "      <td>3.0</td>\n",
       "      <td>4.0</td>\n",
       "      <td>7.0</td>\n",
       "      <td>6.0</td>\n",
       "    </tr>\n",
       "    <tr>\n",
       "      <th>3</th>\n",
       "      <td>4minute_zh.wikipedia.org_all-access_spider</td>\n",
       "      <td>35.0</td>\n",
       "      <td>13.0</td>\n",
       "      <td>10.0</td>\n",
       "      <td>94.0</td>\n",
       "      <td>4.0</td>\n",
       "      <td>26.0</td>\n",
       "      <td>14.0</td>\n",
       "      <td>9.0</td>\n",
       "      <td>11.0</td>\n",
       "      <td>...</td>\n",
       "      <td>7.0</td>\n",
       "      <td>19.0</td>\n",
       "      <td>19.0</td>\n",
       "      <td>9.0</td>\n",
       "      <td>6.0</td>\n",
       "      <td>16.0</td>\n",
       "      <td>19.0</td>\n",
       "      <td>30.0</td>\n",
       "      <td>38.0</td>\n",
       "      <td>4.0</td>\n",
       "    </tr>\n",
       "    <tr>\n",
       "      <th>4</th>\n",
       "      <td>52_Hz_I_Love_You_zh.wikipedia.org_all-access_s...</td>\n",
       "      <td>NaN</td>\n",
       "      <td>NaN</td>\n",
       "      <td>NaN</td>\n",
       "      <td>NaN</td>\n",
       "      <td>NaN</td>\n",
       "      <td>NaN</td>\n",
       "      <td>NaN</td>\n",
       "      <td>NaN</td>\n",
       "      <td>NaN</td>\n",
       "      <td>...</td>\n",
       "      <td>16.0</td>\n",
       "      <td>16.0</td>\n",
       "      <td>19.0</td>\n",
       "      <td>9.0</td>\n",
       "      <td>20.0</td>\n",
       "      <td>23.0</td>\n",
       "      <td>28.0</td>\n",
       "      <td>14.0</td>\n",
       "      <td>8.0</td>\n",
       "      <td>7.0</td>\n",
       "    </tr>\n",
       "  </tbody>\n",
       "</table>\n",
       "<p>5 rows × 804 columns</p>\n",
       "</div>"
      ],
      "text/plain": [
       "                                                Page  2015-07-01  2015-07-02  \\\n",
       "0            2NE1_zh.wikipedia.org_all-access_spider        18.0        11.0   \n",
       "1             2PM_zh.wikipedia.org_all-access_spider        11.0        14.0   \n",
       "2              3C_zh.wikipedia.org_all-access_spider         1.0         0.0   \n",
       "3         4minute_zh.wikipedia.org_all-access_spider        35.0        13.0   \n",
       "4  52_Hz_I_Love_You_zh.wikipedia.org_all-access_s...         NaN         NaN   \n",
       "\n",
       "   2015-07-03  2015-07-04  2015-07-05  2015-07-06  2015-07-07  2015-07-08  \\\n",
       "0         5.0        13.0        14.0         9.0         9.0        22.0   \n",
       "1        15.0        18.0        11.0        13.0        22.0        11.0   \n",
       "2         1.0         1.0         0.0         4.0         0.0         3.0   \n",
       "3        10.0        94.0         4.0        26.0        14.0         9.0   \n",
       "4         NaN         NaN         NaN         NaN         NaN         NaN   \n",
       "\n",
       "   2015-07-09  ...  2017-09-01  2017-09-02  2017-09-03  2017-09-04  \\\n",
       "0        26.0  ...        19.0        33.0        33.0        18.0   \n",
       "1        10.0  ...        32.0        30.0        11.0        19.0   \n",
       "2         4.0  ...         6.0         6.0         7.0         2.0   \n",
       "3        11.0  ...         7.0        19.0        19.0         9.0   \n",
       "4         NaN  ...        16.0        16.0        19.0         9.0   \n",
       "\n",
       "   2017-09-05  2017-09-06  2017-09-07  2017-09-08  2017-09-09  2017-09-10  \n",
       "0        16.0        27.0        29.0        23.0        54.0        38.0  \n",
       "1        54.0        25.0        26.0        23.0        13.0        81.0  \n",
       "2         4.0         7.0         3.0         4.0         7.0         6.0  \n",
       "3         6.0        16.0        19.0        30.0        38.0         4.0  \n",
       "4        20.0        23.0        28.0        14.0         8.0         7.0  \n",
       "\n",
       "[5 rows x 804 columns]"
      ]
     },
     "execution_count": 3,
     "metadata": {},
     "output_type": "execute_result"
    }
   ],
   "source": [
    "data = pd.read_csv(\"/kaggle/input/web-traffic-time-series-forecasting/train_2.csv.zip\", compression = \"zip\")\n",
    "data.head()"
   ]
  },
  {
   "cell_type": "code",
   "execution_count": 4,
   "id": "9625f4d0",
   "metadata": {
    "execution": {
     "iopub.execute_input": "2023-12-21T21:16:19.002649Z",
     "iopub.status.busy": "2023-12-21T21:16:19.002336Z",
     "iopub.status.idle": "2023-12-21T21:16:26.114576Z",
     "shell.execute_reply": "2023-12-21T21:16:26.113593Z"
    },
    "papermill": {
     "duration": 7.122536,
     "end_time": "2023-12-21T21:16:26.116807",
     "exception": false,
     "start_time": "2023-12-21T21:16:18.994271",
     "status": "completed"
    },
    "tags": []
   },
   "outputs": [
    {
     "data": {
      "text/html": [
       "<div>\n",
       "<style scoped>\n",
       "    .dataframe tbody tr th:only-of-type {\n",
       "        vertical-align: middle;\n",
       "    }\n",
       "\n",
       "    .dataframe tbody tr th {\n",
       "        vertical-align: top;\n",
       "    }\n",
       "\n",
       "    .dataframe thead th {\n",
       "        text-align: right;\n",
       "    }\n",
       "</style>\n",
       "<table border=\"1\" class=\"dataframe\">\n",
       "  <thead>\n",
       "    <tr style=\"text-align: right;\">\n",
       "      <th></th>\n",
       "      <th>Page</th>\n",
       "      <th>2015-07-01</th>\n",
       "      <th>2015-07-02</th>\n",
       "      <th>2015-07-03</th>\n",
       "      <th>2015-07-04</th>\n",
       "      <th>2015-07-05</th>\n",
       "      <th>2015-07-06</th>\n",
       "      <th>2015-07-07</th>\n",
       "      <th>2015-07-08</th>\n",
       "      <th>2015-07-09</th>\n",
       "      <th>...</th>\n",
       "      <th>2017-09-01</th>\n",
       "      <th>2017-09-02</th>\n",
       "      <th>2017-09-03</th>\n",
       "      <th>2017-09-04</th>\n",
       "      <th>2017-09-05</th>\n",
       "      <th>2017-09-06</th>\n",
       "      <th>2017-09-07</th>\n",
       "      <th>2017-09-08</th>\n",
       "      <th>2017-09-09</th>\n",
       "      <th>2017-09-10</th>\n",
       "    </tr>\n",
       "  </thead>\n",
       "  <tbody>\n",
       "    <tr>\n",
       "      <th>0</th>\n",
       "      <td>2NE1_zh.wikipedia.org_all-access_spider</td>\n",
       "      <td>18.0</td>\n",
       "      <td>11.0</td>\n",
       "      <td>5.0</td>\n",
       "      <td>13.0</td>\n",
       "      <td>14.0</td>\n",
       "      <td>9.0</td>\n",
       "      <td>9.0</td>\n",
       "      <td>22.0</td>\n",
       "      <td>26.0</td>\n",
       "      <td>...</td>\n",
       "      <td>19.0</td>\n",
       "      <td>33.0</td>\n",
       "      <td>33.0</td>\n",
       "      <td>18.0</td>\n",
       "      <td>16.0</td>\n",
       "      <td>27.0</td>\n",
       "      <td>29.0</td>\n",
       "      <td>23.0</td>\n",
       "      <td>54.0</td>\n",
       "      <td>38.0</td>\n",
       "    </tr>\n",
       "    <tr>\n",
       "      <th>1</th>\n",
       "      <td>2PM_zh.wikipedia.org_all-access_spider</td>\n",
       "      <td>11.0</td>\n",
       "      <td>14.0</td>\n",
       "      <td>15.0</td>\n",
       "      <td>18.0</td>\n",
       "      <td>11.0</td>\n",
       "      <td>13.0</td>\n",
       "      <td>22.0</td>\n",
       "      <td>11.0</td>\n",
       "      <td>10.0</td>\n",
       "      <td>...</td>\n",
       "      <td>32.0</td>\n",
       "      <td>30.0</td>\n",
       "      <td>11.0</td>\n",
       "      <td>19.0</td>\n",
       "      <td>54.0</td>\n",
       "      <td>25.0</td>\n",
       "      <td>26.0</td>\n",
       "      <td>23.0</td>\n",
       "      <td>13.0</td>\n",
       "      <td>81.0</td>\n",
       "    </tr>\n",
       "    <tr>\n",
       "      <th>2</th>\n",
       "      <td>3C_zh.wikipedia.org_all-access_spider</td>\n",
       "      <td>1.0</td>\n",
       "      <td>0.0</td>\n",
       "      <td>1.0</td>\n",
       "      <td>1.0</td>\n",
       "      <td>0.0</td>\n",
       "      <td>4.0</td>\n",
       "      <td>0.0</td>\n",
       "      <td>3.0</td>\n",
       "      <td>4.0</td>\n",
       "      <td>...</td>\n",
       "      <td>6.0</td>\n",
       "      <td>6.0</td>\n",
       "      <td>7.0</td>\n",
       "      <td>2.0</td>\n",
       "      <td>4.0</td>\n",
       "      <td>7.0</td>\n",
       "      <td>3.0</td>\n",
       "      <td>4.0</td>\n",
       "      <td>7.0</td>\n",
       "      <td>6.0</td>\n",
       "    </tr>\n",
       "    <tr>\n",
       "      <th>3</th>\n",
       "      <td>4minute_zh.wikipedia.org_all-access_spider</td>\n",
       "      <td>35.0</td>\n",
       "      <td>13.0</td>\n",
       "      <td>10.0</td>\n",
       "      <td>94.0</td>\n",
       "      <td>4.0</td>\n",
       "      <td>26.0</td>\n",
       "      <td>14.0</td>\n",
       "      <td>9.0</td>\n",
       "      <td>11.0</td>\n",
       "      <td>...</td>\n",
       "      <td>7.0</td>\n",
       "      <td>19.0</td>\n",
       "      <td>19.0</td>\n",
       "      <td>9.0</td>\n",
       "      <td>6.0</td>\n",
       "      <td>16.0</td>\n",
       "      <td>19.0</td>\n",
       "      <td>30.0</td>\n",
       "      <td>38.0</td>\n",
       "      <td>4.0</td>\n",
       "    </tr>\n",
       "    <tr>\n",
       "      <th>4</th>\n",
       "      <td>52_Hz_I_Love_You_zh.wikipedia.org_all-access_s...</td>\n",
       "      <td>0.0</td>\n",
       "      <td>0.0</td>\n",
       "      <td>0.0</td>\n",
       "      <td>0.0</td>\n",
       "      <td>0.0</td>\n",
       "      <td>0.0</td>\n",
       "      <td>0.0</td>\n",
       "      <td>0.0</td>\n",
       "      <td>0.0</td>\n",
       "      <td>...</td>\n",
       "      <td>16.0</td>\n",
       "      <td>16.0</td>\n",
       "      <td>19.0</td>\n",
       "      <td>9.0</td>\n",
       "      <td>20.0</td>\n",
       "      <td>23.0</td>\n",
       "      <td>28.0</td>\n",
       "      <td>14.0</td>\n",
       "      <td>8.0</td>\n",
       "      <td>7.0</td>\n",
       "    </tr>\n",
       "  </tbody>\n",
       "</table>\n",
       "<p>5 rows × 804 columns</p>\n",
       "</div>"
      ],
      "text/plain": [
       "                                                Page  2015-07-01  2015-07-02  \\\n",
       "0            2NE1_zh.wikipedia.org_all-access_spider        18.0        11.0   \n",
       "1             2PM_zh.wikipedia.org_all-access_spider        11.0        14.0   \n",
       "2              3C_zh.wikipedia.org_all-access_spider         1.0         0.0   \n",
       "3         4minute_zh.wikipedia.org_all-access_spider        35.0        13.0   \n",
       "4  52_Hz_I_Love_You_zh.wikipedia.org_all-access_s...         0.0         0.0   \n",
       "\n",
       "   2015-07-03  2015-07-04  2015-07-05  2015-07-06  2015-07-07  2015-07-08  \\\n",
       "0         5.0        13.0        14.0         9.0         9.0        22.0   \n",
       "1        15.0        18.0        11.0        13.0        22.0        11.0   \n",
       "2         1.0         1.0         0.0         4.0         0.0         3.0   \n",
       "3        10.0        94.0         4.0        26.0        14.0         9.0   \n",
       "4         0.0         0.0         0.0         0.0         0.0         0.0   \n",
       "\n",
       "   2015-07-09  ...  2017-09-01  2017-09-02  2017-09-03  2017-09-04  \\\n",
       "0        26.0  ...        19.0        33.0        33.0        18.0   \n",
       "1        10.0  ...        32.0        30.0        11.0        19.0   \n",
       "2         4.0  ...         6.0         6.0         7.0         2.0   \n",
       "3        11.0  ...         7.0        19.0        19.0         9.0   \n",
       "4         0.0  ...        16.0        16.0        19.0         9.0   \n",
       "\n",
       "   2017-09-05  2017-09-06  2017-09-07  2017-09-08  2017-09-09  2017-09-10  \n",
       "0        16.0        27.0        29.0        23.0        54.0        38.0  \n",
       "1        54.0        25.0        26.0        23.0        13.0        81.0  \n",
       "2         4.0         7.0         3.0         4.0         7.0         6.0  \n",
       "3         6.0        16.0        19.0        30.0        38.0         4.0  \n",
       "4        20.0        23.0        28.0        14.0         8.0         7.0  \n",
       "\n",
       "[5 rows x 804 columns]"
      ]
     },
     "execution_count": 4,
     "metadata": {},
     "output_type": "execute_result"
    }
   ],
   "source": [
    "Page=data['Page']\n",
    "data=data.drop(columns=['Page']).interpolate(axis=1)\n",
    "data.fillna(0,inplace=True)\n",
    "data.insert(loc=0,column='Page',value=Page)\n",
    "data.head()"
   ]
  },
  {
   "cell_type": "code",
   "execution_count": 5,
   "id": "a9c3720a",
   "metadata": {
    "execution": {
     "iopub.execute_input": "2023-12-21T21:16:26.134244Z",
     "iopub.status.busy": "2023-12-21T21:16:26.133398Z",
     "iopub.status.idle": "2023-12-21T21:16:26.141746Z",
     "shell.execute_reply": "2023-12-21T21:16:26.140998Z"
    },
    "papermill": {
     "duration": 0.019326,
     "end_time": "2023-12-21T21:16:26.143850",
     "exception": false,
     "start_time": "2023-12-21T21:16:26.124524",
     "status": "completed"
    },
    "tags": []
   },
   "outputs": [],
   "source": [
    "indices = np.random.permutation(data.shape[0]) \n",
    "idx=indices[:int(0.70*data.shape[0])]"
   ]
  },
  {
   "cell_type": "code",
   "execution_count": 6,
   "id": "983a7fdb",
   "metadata": {
    "execution": {
     "iopub.execute_input": "2023-12-21T21:16:26.160796Z",
     "iopub.status.busy": "2023-12-21T21:16:26.160422Z",
     "iopub.status.idle": "2023-12-21T21:17:40.343660Z",
     "shell.execute_reply": "2023-12-21T21:17:40.334520Z"
    },
    "papermill": {
     "duration": 74.19461,
     "end_time": "2023-12-21T21:17:40.346223",
     "exception": false,
     "start_time": "2023-12-21T21:16:26.151613",
     "status": "completed"
    },
    "tags": []
   },
   "outputs": [
    {
     "name": "stderr",
     "output_type": "stream",
     "text": [
      "100%|██████████| 101544/101544 [01:14<00:00, 1369.24it/s]\n"
     ]
    }
   ],
   "source": [
    "x_train=[]\n",
    "y_train=[]\n",
    "project=[] \n",
    "spider=[] \n",
    "access=[] \n",
    "for i in tqdm(idx):\n",
    "    k=data.iloc[i].values[-364:] # Taking last 364 days of data\n",
    "    x_train.append(k[:300]) # We will use 300 days of data for training and rest 64 days as our target values.\n",
    "    y_train.append(k[300:])\n",
    "\n",
    "    projects = ['zh.wikipedia.org', 'fr.wikipedia.org', 'en.wikipedia.org', 'commons.wikimedia.org', 'ru.wikipedia.org', 'www.mediawiki.org', 'de.wikipedia.org', 'ja.wikipedia.org', 'es.wikipedia.org']\n",
    "    for p in projects:\n",
    "        if p in Page[i]:\n",
    "            project.append(p)\n",
    "            break\n",
    "\n",
    "    if('spider' in Page[i]):\n",
    "        spider.append('spider')\n",
    "    else:\n",
    "        spider.append('non-spider') \n",
    " \n",
    "    k=max([i.start() for i in re.finditer('org_',Page[i])])  \n",
    "    if('all-access' in Page[i][k:]):\n",
    "        access.append('all_access')\n",
    "    if('desktop' in Page[i][k:]):\n",
    "        access.append('desktop')\n",
    "    if('mobile' in Page[i][k:]): \n",
    "        access.append('mobile')   "
   ]
  },
  {
   "cell_type": "code",
   "execution_count": 7,
   "id": "2159d50f",
   "metadata": {
    "execution": {
     "iopub.execute_input": "2023-12-21T21:17:40.476130Z",
     "iopub.status.busy": "2023-12-21T21:17:40.475413Z",
     "iopub.status.idle": "2023-12-21T21:17:41.116392Z",
     "shell.execute_reply": "2023-12-21T21:17:41.115299Z"
    },
    "papermill": {
     "duration": 0.70822,
     "end_time": "2023-12-21T21:17:41.118782",
     "exception": false,
     "start_time": "2023-12-21T21:17:40.410562",
     "status": "completed"
    },
    "tags": []
   },
   "outputs": [],
   "source": [
    "X=np.array(x_train).reshape(len(idx),300,1)\n",
    "y=np.array(y_train).reshape(len(idx),64)"
   ]
  },
  {
   "cell_type": "code",
   "execution_count": 8,
   "id": "039343ad",
   "metadata": {
    "execution": {
     "iopub.execute_input": "2023-12-21T21:17:41.294494Z",
     "iopub.status.busy": "2023-12-21T21:17:41.294136Z",
     "iopub.status.idle": "2023-12-21T21:17:41.300069Z",
     "shell.execute_reply": "2023-12-21T21:17:41.299244Z"
    },
    "papermill": {
     "duration": 0.072154,
     "end_time": "2023-12-21T21:17:41.302005",
     "exception": false,
     "start_time": "2023-12-21T21:17:41.229851",
     "status": "completed"
    },
    "tags": []
   },
   "outputs": [
    {
     "data": {
      "text/plain": [
       "(101544, 300, 1)"
      ]
     },
     "execution_count": 8,
     "metadata": {},
     "output_type": "execute_result"
    }
   ],
   "source": [
    "X.shape"
   ]
  },
  {
   "cell_type": "code",
   "execution_count": 9,
   "id": "6821c00b",
   "metadata": {
    "execution": {
     "iopub.execute_input": "2023-12-21T21:17:41.429413Z",
     "iopub.status.busy": "2023-12-21T21:17:41.429131Z",
     "iopub.status.idle": "2023-12-21T21:17:41.467536Z",
     "shell.execute_reply": "2023-12-21T21:17:41.466814Z"
    },
    "papermill": {
     "duration": 0.105417,
     "end_time": "2023-12-21T21:17:41.470779",
     "exception": false,
     "start_time": "2023-12-21T21:17:41.365362",
     "status": "completed"
    },
    "tags": []
   },
   "outputs": [],
   "source": [
    "X_train=X[:100000]\n",
    "y_train=y[:100000]\n",
    "X_test=X[100000:]\n",
    "y_test=y[100000:]"
   ]
  },
  {
   "cell_type": "code",
   "execution_count": 10,
   "id": "1092c655",
   "metadata": {
    "execution": {
     "iopub.execute_input": "2023-12-21T21:17:41.604321Z",
     "iopub.status.busy": "2023-12-21T21:17:41.603377Z",
     "iopub.status.idle": "2023-12-21T21:17:41.772655Z",
     "shell.execute_reply": "2023-12-21T21:17:41.771678Z"
    },
    "papermill": {
     "duration": 0.239789,
     "end_time": "2023-12-21T21:17:41.775151",
     "exception": false,
     "start_time": "2023-12-21T21:17:41.535362",
     "status": "completed"
    },
    "tags": []
   },
   "outputs": [],
   "source": [
    "prj_enc=LabelEncoder()\n",
    "prj=prj_enc.fit_transform(project)\n",
    "access_enc=LabelEncoder()\n",
    "access=access_enc.fit_transform(access)\n",
    "spider_enc=LabelEncoder()\n",
    "spider=spider_enc.fit_transform(spider)"
   ]
  },
  {
   "cell_type": "code",
   "execution_count": 11,
   "id": "fbe5fbe1",
   "metadata": {
    "execution": {
     "iopub.execute_input": "2023-12-21T21:17:41.905513Z",
     "iopub.status.busy": "2023-12-21T21:17:41.904567Z",
     "iopub.status.idle": "2023-12-21T21:17:41.910264Z",
     "shell.execute_reply": "2023-12-21T21:17:41.909419Z"
    },
    "papermill": {
     "duration": 0.072446,
     "end_time": "2023-12-21T21:17:41.912186",
     "exception": false,
     "start_time": "2023-12-21T21:17:41.839740",
     "status": "completed"
    },
    "tags": []
   },
   "outputs": [],
   "source": [
    "prj_train=prj[:100000]\n",
    "prj_test=prj[100000:]\n",
    "access_train=access[:100000] \n",
    "access_test=access[100000:]\n",
    "spider_train=spider[:100000]\n",
    "spider_test=spider[100000:]"
   ]
  },
  {
   "cell_type": "code",
   "execution_count": 12,
   "id": "ff9ab944",
   "metadata": {
    "execution": {
     "iopub.execute_input": "2023-12-21T21:17:42.044680Z",
     "iopub.status.busy": "2023-12-21T21:17:42.044343Z",
     "iopub.status.idle": "2023-12-21T21:17:42.050023Z",
     "shell.execute_reply": "2023-12-21T21:17:42.049146Z"
    },
    "papermill": {
     "duration": 0.074124,
     "end_time": "2023-12-21T21:17:42.052089",
     "exception": false,
     "start_time": "2023-12-21T21:17:41.977965",
     "status": "completed"
    },
    "tags": []
   },
   "outputs": [],
   "source": [
    "access_train=access_train.reshape(len(access_train),1)\n",
    "access_test=access_test.reshape(len(access_test),1)\n",
    "prj_train=prj_train.reshape(len(prj_train),1)\n",
    "prj_test=prj_test.reshape(len(prj_test),1)\n",
    "spider_train=spider_train.reshape(len(spider_train),1)\n",
    "spider_test=spider_test.reshape(len(spider_test),1)"
   ]
  },
  {
   "cell_type": "markdown",
   "id": "8656c0d9",
   "metadata": {
    "papermill": {
     "duration": 0.063472,
     "end_time": "2023-12-21T21:17:42.180184",
     "exception": false,
     "start_time": "2023-12-21T21:17:42.116712",
     "status": "completed"
    },
    "tags": []
   },
   "source": [
    "# LSTM"
   ]
  },
  {
   "cell_type": "code",
   "execution_count": 13,
   "id": "41433ddb",
   "metadata": {
    "execution": {
     "iopub.execute_input": "2023-12-21T21:17:42.310178Z",
     "iopub.status.busy": "2023-12-21T21:17:42.309803Z",
     "iopub.status.idle": "2023-12-21T21:17:42.314772Z",
     "shell.execute_reply": "2023-12-21T21:17:42.314036Z"
    },
    "papermill": {
     "duration": 0.071602,
     "end_time": "2023-12-21T21:17:42.316848",
     "exception": false,
     "start_time": "2023-12-21T21:17:42.245246",
     "status": "completed"
    },
    "tags": []
   },
   "outputs": [],
   "source": [
    "from keras import backend as K\n",
    "def smape(y_true, y_pred):\n",
    "    return K.mean(100*K.abs(y_pred - y_true) / (K.abs(y_pred) + K.abs(y_true)), axis=-1)"
   ]
  },
  {
   "cell_type": "code",
   "execution_count": 14,
   "id": "1d876599",
   "metadata": {
    "execution": {
     "iopub.execute_input": "2023-12-21T21:17:42.444858Z",
     "iopub.status.busy": "2023-12-21T21:17:42.444280Z",
     "iopub.status.idle": "2023-12-21T21:49:17.679257Z",
     "shell.execute_reply": "2023-12-21T21:49:17.678223Z"
    },
    "papermill": {
     "duration": 1897.882772,
     "end_time": "2023-12-21T21:49:20.263100",
     "exception": false,
     "start_time": "2023-12-21T21:17:42.380328",
     "status": "completed"
    },
    "tags": []
   },
   "outputs": [
    {
     "name": "stdout",
     "output_type": "stream",
     "text": [
      "Epoch 1/500\n",
      "1563/1563 [==============================] - 60s 33ms/step - loss: 24.3380 - val_loss: 19.9432\n",
      "Epoch 2/500\n",
      "1563/1563 [==============================] - 51s 33ms/step - loss: 20.1659 - val_loss: 19.7303\n",
      "Epoch 3/500\n",
      "1563/1563 [==============================] - 51s 32ms/step - loss: 19.9300 - val_loss: 19.5474\n",
      "Epoch 4/500\n",
      "1563/1563 [==============================] - 51s 33ms/step - loss: 19.8148 - val_loss: 19.3270\n",
      "Epoch 5/500\n",
      "1563/1563 [==============================] - 51s 32ms/step - loss: 19.6360 - val_loss: 19.3975\n",
      "Epoch 6/500\n",
      "1563/1563 [==============================] - 51s 33ms/step - loss: 19.5008 - val_loss: 18.8820\n",
      "Epoch 7/500\n",
      "1563/1563 [==============================] - 51s 32ms/step - loss: 19.4864 - val_loss: 19.1379\n",
      "Epoch 8/500\n",
      "1563/1563 [==============================] - 51s 32ms/step - loss: 19.6301 - val_loss: 18.9342\n",
      "Epoch 9/500\n",
      "1563/1563 [==============================] - 51s 32ms/step - loss: 19.7146 - val_loss: 19.1348\n",
      "Epoch 10/500\n",
      "1563/1563 [==============================] - 51s 32ms/step - loss: 19.5118 - val_loss: 19.1452\n",
      "Epoch 11/500\n",
      "1563/1563 [==============================] - 51s 33ms/step - loss: 19.6070 - val_loss: 19.8115\n",
      "Epoch 12/500\n",
      "1563/1563 [==============================] - 51s 33ms/step - loss: 20.0475 - val_loss: 19.2321\n",
      "Epoch 13/500\n",
      "1563/1563 [==============================] - 51s 32ms/step - loss: 19.8775 - val_loss: 19.3065\n",
      "Epoch 14/500\n",
      "1563/1563 [==============================] - 51s 33ms/step - loss: 19.4920 - val_loss: 19.0148\n",
      "Epoch 15/500\n",
      "1563/1563 [==============================] - 51s 32ms/step - loss: 19.4582 - val_loss: 18.9705\n",
      "Epoch 16/500\n",
      "1563/1563 [==============================] - 51s 32ms/step - loss: 19.3169 - val_loss: 18.8264\n",
      "Epoch 17/500\n",
      "1563/1563 [==============================] - 51s 32ms/step - loss: 19.3716 - val_loss: 18.8946\n",
      "Epoch 18/500\n",
      "1563/1563 [==============================] - 51s 32ms/step - loss: 19.3916 - val_loss: 19.5649\n",
      "Epoch 19/500\n",
      "1563/1563 [==============================] - 51s 32ms/step - loss: 19.4419 - val_loss: 19.1324\n",
      "Epoch 20/500\n",
      "1563/1563 [==============================] - 51s 32ms/step - loss: 19.3074 - val_loss: 18.9622\n",
      "Epoch 21/500\n",
      "1563/1563 [==============================] - 51s 32ms/step - loss: 19.2533 - val_loss: 19.3396\n",
      "Epoch 22/500\n",
      "1563/1563 [==============================] - 51s 32ms/step - loss: 19.2879 - val_loss: 18.6698\n",
      "Epoch 23/500\n",
      "1563/1563 [==============================] - 51s 32ms/step - loss: 19.2619 - val_loss: 18.9118\n",
      "Epoch 24/500\n",
      "1563/1563 [==============================] - 51s 32ms/step - loss: 19.0796 - val_loss: 18.7310\n",
      "Epoch 25/500\n",
      "1563/1563 [==============================] - 51s 32ms/step - loss: 19.0259 - val_loss: 18.7599\n",
      "Epoch 26/500\n",
      "1563/1563 [==============================] - 51s 32ms/step - loss: 19.1332 - val_loss: 18.4411\n",
      "Epoch 27/500\n",
      "1563/1563 [==============================] - 51s 32ms/step - loss: 18.9895 - val_loss: 18.5536\n",
      "Epoch 28/500\n",
      "1563/1563 [==============================] - 51s 32ms/step - loss: 19.0660 - val_loss: 18.6398\n",
      "Epoch 29/500\n",
      "1563/1563 [==============================] - 51s 32ms/step - loss: 19.3795 - val_loss: 18.6506\n",
      "Epoch 30/500\n",
      "1563/1563 [==============================] - 51s 32ms/step - loss: 19.3736 - val_loss: 18.6376\n",
      "Epoch 31/500\n",
      "1563/1563 [==============================] - 51s 32ms/step - loss: 19.3391 - val_loss: 18.5394\n",
      "Epoch 32/500\n",
      "1563/1563 [==============================] - 51s 32ms/step - loss: 19.5367 - val_loss: 19.0158\n",
      "Epoch 33/500\n",
      "1563/1563 [==============================] - 51s 32ms/step - loss: 19.1409 - val_loss: 18.5162\n",
      "Epoch 34/500\n",
      "1563/1563 [==============================] - 51s 33ms/step - loss: 19.0656 - val_loss: 18.5080\n",
      "Epoch 35/500\n",
      "1563/1563 [==============================] - 51s 33ms/step - loss: 18.9863 - val_loss: 18.5857\n",
      "Epoch 36/500\n",
      "1563/1563 [==============================] - 51s 33ms/step - loss: 19.1364 - val_loss: 18.7458\n"
     ]
    },
    {
     "data": {
      "text/plain": [
       "<keras.src.callbacks.History at 0x7b476a7ad2a0>"
      ]
     },
     "execution_count": 14,
     "metadata": {},
     "output_type": "execute_result"
    }
   ],
   "source": [
    "# Define model architecture\n",
    "input_layer = Input(shape=(X_train.shape[1], X_train.shape[2]))\n",
    "x = LSTM(100, return_sequences=True)(input_layer)\n",
    "x = LSTM(50)(x)\n",
    "\n",
    "input_layer1 = Input(shape=(access_train.shape[1],))\n",
    "x1 = Embedding(input_dim=3, output_dim=3)(input_layer1)\n",
    "x1 = Flatten()(x1)\n",
    "\n",
    "input_layer2 = Input(shape=(prj_train.shape[1],))\n",
    "x2 = Embedding(input_dim=8, output_dim=8)(input_layer2)\n",
    "x2 = Flatten()(x2)\n",
    "\n",
    "input_layer3 = Input(shape=(spider_train.shape[1],))\n",
    "x3 = Embedding(input_dim=2, output_dim=2)(input_layer3)\n",
    "x3 = Flatten()(x3)\n",
    "\n",
    "concat = Concatenate()([x, x1, x2, x3])\n",
    "x = Dense(264, activation='relu')(concat)\n",
    "x = Dropout(0.2)(x)  # Add dropout layer to prevent overfitting\n",
    "x = Dense(128, activation='relu')(x)\n",
    "x = Dropout(0.2)(x)  # Add dropout layer to prevent overfitting\n",
    "\n",
    "output = Dense(64)(x)\n",
    "\n",
    "model = Model(inputs=[input_layer, input_layer1, input_layer2, input_layer3], outputs=output)\n",
    "\n",
    "# Compile the model\n",
    "optimizer = tf.keras.optimizers.Adam()\n",
    "model.compile(optimizer=optimizer, loss=smape)\n",
    "\n",
    "X_train = X_train.astype('float32')\n",
    "y_train = y_train.astype('float32')\n",
    "X_test = X_test.astype('float32')\n",
    "y_test = y_test.astype('float32')\n",
    "\n",
    "# Define early stopping\n",
    "early_stopping = EarlyStopping(monitor='val_loss', patience=10)\n",
    "\n",
    "# Fit the model with early stopping callback\n",
    "model.fit([X_train, access_train, prj_train, spider_train], y_train, \n",
    "          validation_data=([X_test, access_test, prj_test, spider_test], y_test), \n",
    "          epochs=500, batch_size=64, callbacks=[early_stopping])"
   ]
  },
  {
   "cell_type": "markdown",
   "id": "d0c59a0a",
   "metadata": {
    "papermill": {
     "duration": 2.364952,
     "end_time": "2023-12-21T21:49:30.162224",
     "exception": false,
     "start_time": "2023-12-21T21:49:27.797272",
     "status": "completed"
    },
    "tags": []
   },
   "source": [
    "# Submission"
   ]
  },
  {
   "cell_type": "code",
   "execution_count": 16,
   "id": "14051acc",
   "metadata": {
    "execution": {
     "iopub.execute_input": "2023-12-21T21:49:35.040761Z",
     "iopub.status.busy": "2023-12-21T21:49:35.040378Z",
     "iopub.status.idle": "2023-12-21T21:52:26.343086Z",
     "shell.execute_reply": "2023-12-21T21:52:26.342157Z"
    },
    "papermill": {
     "duration": 173.796359,
     "end_time": "2023-12-21T21:52:26.345719",
     "exception": false,
     "start_time": "2023-12-21T21:49:32.549360",
     "status": "completed"
    },
    "tags": []
   },
   "outputs": [
    {
     "name": "stderr",
     "output_type": "stream",
     "text": [
      "/tmp/ipykernel_27/2483910096.py:7: TqdmDeprecationWarning: Please use `tqdm.notebook.trange` instead of `tqdm.tnrange`\n",
      "  for i in tnrange(data.shape[0]):\n"
     ]
    },
    {
     "data": {
      "application/vnd.jupyter.widget-view+json": {
       "model_id": "1f26b5c82f2e4516afe7d4e5f609c8a4",
       "version_major": 2,
       "version_minor": 0
      },
      "text/plain": [
       "  0%|          | 0/145063 [00:00<?, ?it/s]"
      ]
     },
     "metadata": {},
     "output_type": "display_data"
    },
    {
     "name": "stdout",
     "output_type": "stream",
     "text": [
      "4534/4534 [==============================] - 60s 13ms/step\n"
     ]
    }
   ],
   "source": [
    "x_pred=[]\n",
    "project_pred=[]\n",
    "access_pred=[]\n",
    "spider_pred=[]\n",
    "projects = ['zh.wikipedia.org', 'fr.wikipedia.org', 'en.wikipedia.org', 'commons.wikimedia.org', 'ru.wikipedia.org', 'www.mediawiki.org', 'de.wikipedia.org', 'ja.wikipedia.org', 'es.wikipedia.org']\n",
    "\n",
    "for i in tnrange(data.shape[0]):\n",
    "    k=data.iloc[i].values[-300:]\n",
    "    x_pred.append(k)\n",
    "\n",
    "    for p in projects:\n",
    "        if p in Page[i]:\n",
    "            project_pred.append(p)\n",
    "            break\n",
    "\n",
    "    if('spider' in Page[i]):\n",
    "        spider_pred.append('spider')\n",
    "    else:\n",
    "        spider_pred.append('non-spider') \n",
    " \n",
    "    k=max([i.start() for i in re.finditer('org_',Page[i])])   \n",
    "    if('all-access' in Page[i][k:]):\n",
    "        access_pred.append('all_access')\n",
    "    if('desktop' in Page[i][k:]):\n",
    "        access_pred.append('desktop')\n",
    "    if('mobile' in Page[i][k:]): \n",
    "        access_pred.append('mobile')\n",
    "\n",
    "x_pred=np.array(x_pred).reshape(data.shape[0],300,1)\n",
    "\n",
    "access_pred=access_enc.transform(access_pred).reshape(len(access_pred),1)\n",
    "project_pred=prj_enc.transform(project_pred).reshape(len(project_pred),1)\n",
    "spider_pred=spider_enc.transform(spider_pred).reshape(len(spider_pred),1)  \n",
    "x_pred = x_pred.astype('float32')\n",
    "access_pred = access_pred.astype('float32')\n",
    "project_pred = project_pred.astype('float32')\n",
    "spider_pred = spider_pred.astype('float32')\n",
    "\n",
    "pred=model.predict([x_pred,access_pred,project_pred,spider_pred])"
   ]
  },
  {
   "cell_type": "code",
   "execution_count": 17,
   "id": "a9796022",
   "metadata": {
    "execution": {
     "iopub.execute_input": "2023-12-21T21:52:31.376287Z",
     "iopub.status.busy": "2023-12-21T21:52:31.375899Z",
     "iopub.status.idle": "2023-12-21T21:52:56.166163Z",
     "shell.execute_reply": "2023-12-21T21:52:56.165148Z"
    },
    "papermill": {
     "duration": 27.360178,
     "end_time": "2023-12-21T21:52:56.168603",
     "exception": false,
     "start_time": "2023-12-21T21:52:28.808425",
     "status": "completed"
    },
    "tags": []
   },
   "outputs": [],
   "source": [
    "key = pd.read_csv(\"/kaggle/input/web-traffic-time-series-forecasting/key_2.csv.zip\", compression = \"zip\")\n",
    "sample_sub = pd.read_csv(\"/kaggle/input/web-traffic-time-series-forecasting/sample_submission_2.csv.zip\", compression = \"zip\")"
   ]
  },
  {
   "cell_type": "code",
   "execution_count": 18,
   "id": "e49ca310",
   "metadata": {
    "execution": {
     "iopub.execute_input": "2023-12-21T21:53:01.107569Z",
     "iopub.status.busy": "2023-12-21T21:53:01.106537Z",
     "iopub.status.idle": "2023-12-21T21:54:19.354699Z",
     "shell.execute_reply": "2023-12-21T21:54:19.353713Z"
    },
    "papermill": {
     "duration": 80.693994,
     "end_time": "2023-12-21T21:54:19.356662",
     "exception": false,
     "start_time": "2023-12-21T21:52:58.662668",
     "status": "completed"
    },
    "tags": []
   },
   "outputs": [
    {
     "name": "stderr",
     "output_type": "stream",
     "text": [
      "/tmp/ipykernel_27/3281572567.py:8: TqdmDeprecationWarning: Please use `tqdm.notebook.trange` instead of `tqdm.tnrange`\n",
      "  for i in tnrange(data.shape[0]):\n"
     ]
    },
    {
     "data": {
      "application/vnd.jupyter.widget-view+json": {
       "model_id": "7b1a6adffba64b139574a7b1357190b6",
       "version_major": 2,
       "version_minor": 0
      },
      "text/plain": [
       "  0%|          | 0/145063 [00:00<?, ?it/s]"
      ]
     },
     "metadata": {},
     "output_type": "display_data"
    }
   ],
   "source": [
    "ids = key['Page'].values\n",
    "\n",
    "visits = {}\n",
    "\n",
    "for i in tnrange(data.shape[0]):\n",
    "    date = datetime.date(2017, 9, 13)\n",
    "    \n",
    "    # Loop over the range of days from September 13 to November 13 (62 days)\n",
    "    for j in range(62):\n",
    "        # Construct the name by appending the date to the page name\n",
    "        name = Page[i] + '_' + str(date)\n",
    "        \n",
    "        visits[name] = pred[i][j]\n",
    "        \n",
    "        # Increment the date by one day\n",
    "        date += datetime.timedelta(days=1)\n"
   ]
  },
  {
   "cell_type": "code",
   "execution_count": 19,
   "id": "6aba08fa",
   "metadata": {
    "execution": {
     "iopub.execute_input": "2023-12-21T21:54:24.407753Z",
     "iopub.status.busy": "2023-12-21T21:54:24.407376Z",
     "iopub.status.idle": "2023-12-21T21:58:23.602787Z",
     "shell.execute_reply": "2023-12-21T21:58:23.601862Z"
    },
    "papermill": {
     "duration": 241.801064,
     "end_time": "2023-12-21T21:58:23.604832",
     "exception": false,
     "start_time": "2023-12-21T21:54:21.803768",
     "status": "completed"
    },
    "tags": []
   },
   "outputs": [
    {
     "name": "stderr",
     "output_type": "stream",
     "text": [
      "/tmp/ipykernel_27/1157927782.py:1: TqdmDeprecationWarning: Please use `tqdm.notebook.trange` instead of `tqdm.tnrange`\n",
      "  for i in tnrange(len(ids)):\n"
     ]
    },
    {
     "data": {
      "application/vnd.jupyter.widget-view+json": {
       "model_id": "04d1a2abf0df432e85ad441ad439b446",
       "version_major": 2,
       "version_minor": 0
      },
      "text/plain": [
       "  0%|          | 0/8993906 [00:00<?, ?it/s]"
      ]
     },
     "metadata": {},
     "output_type": "display_data"
    },
    {
     "name": "stderr",
     "output_type": "stream",
     "text": [
      "/tmp/ipykernel_27/1157927782.py:2: FutureWarning: Setting an item of incompatible dtype is deprecated and will raise in a future error of pandas. Value '505.3911437988281' has dtype incompatible with int64, please explicitly cast to a compatible dtype first.\n",
      "  sample_sub.at[i,'Visits']=visits[ids[i]]\n"
     ]
    }
   ],
   "source": [
    "for i in tnrange(len(ids)):\n",
    "    sample_sub.at[i,'Visits']=visits[ids[i]]"
   ]
  },
  {
   "cell_type": "code",
   "execution_count": 20,
   "id": "c721e579",
   "metadata": {
    "execution": {
     "iopub.execute_input": "2023-12-21T21:58:28.667846Z",
     "iopub.status.busy": "2023-12-21T21:58:28.667469Z",
     "iopub.status.idle": "2023-12-21T21:59:01.701857Z",
     "shell.execute_reply": "2023-12-21T21:59:01.700995Z"
    },
    "papermill": {
     "duration": 35.645784,
     "end_time": "2023-12-21T21:59:01.704329",
     "exception": false,
     "start_time": "2023-12-21T21:58:26.058545",
     "status": "completed"
    },
    "tags": []
   },
   "outputs": [],
   "source": [
    "sample_sub.to_csv('/kaggle/working/lstm_submit.csv',index=False)"
   ]
  },
  {
   "cell_type": "code",
   "execution_count": 21,
   "id": "c5b176ee",
   "metadata": {
    "execution": {
     "iopub.execute_input": "2023-12-21T21:59:06.711615Z",
     "iopub.status.busy": "2023-12-21T21:59:06.710726Z",
     "iopub.status.idle": "2023-12-21T21:59:06.716946Z",
     "shell.execute_reply": "2023-12-21T21:59:06.716020Z"
    },
    "papermill": {
     "duration": 2.514475,
     "end_time": "2023-12-21T21:59:06.718893",
     "exception": false,
     "start_time": "2023-12-21T21:59:04.204418",
     "status": "completed"
    },
    "tags": []
   },
   "outputs": [
    {
     "data": {
      "text/plain": [
       "(8993906, 2)"
      ]
     },
     "execution_count": 21,
     "metadata": {},
     "output_type": "execute_result"
    }
   ],
   "source": [
    "sample_sub.shape"
   ]
  }
 ],
 "metadata": {
  "kaggle": {
   "accelerator": "gpu",
   "dataSources": [
    {
     "databundleVersionId": 44342,
     "sourceId": 6768,
     "sourceType": "competition"
    }
   ],
   "dockerImageVersionId": 30627,
   "isGpuEnabled": true,
   "isInternetEnabled": true,
   "language": "python",
   "sourceType": "notebook"
  },
  "kernelspec": {
   "display_name": "Python 3 (ipykernel)",
   "language": "python",
   "name": "python3"
  },
  "language_info": {
   "codemirror_mode": {
    "name": "ipython",
    "version": 3
   },
   "file_extension": ".py",
   "mimetype": "text/x-python",
   "name": "python",
   "nbconvert_exporter": "python",
   "pygments_lexer": "ipython3",
   "version": "3.10.9"
  },
  "papermill": {
   "default_parameters": {},
   "duration": 2609.99728,
   "end_time": "2023-12-21T21:59:12.250485",
   "environment_variables": {},
   "exception": null,
   "input_path": "__notebook__.ipynb",
   "output_path": "__notebook__.ipynb",
   "parameters": {},
   "start_time": "2023-12-21T21:15:42.253205",
   "version": "2.4.0"
  },
  "widgets": {
   "application/vnd.jupyter.widget-state+json": {
    "state": {
     "04d1a2abf0df432e85ad441ad439b446": {
      "model_module": "@jupyter-widgets/controls",
      "model_module_version": "1.5.0",
      "model_name": "HBoxModel",
      "state": {
       "_dom_classes": [],
       "_model_module": "@jupyter-widgets/controls",
       "_model_module_version": "1.5.0",
       "_model_name": "HBoxModel",
       "_view_count": null,
       "_view_module": "@jupyter-widgets/controls",
       "_view_module_version": "1.5.0",
       "_view_name": "HBoxView",
       "box_style": "",
       "children": [
        "IPY_MODEL_f08114a108ea4f1ea4806fc8c9367e9c",
        "IPY_MODEL_3b996cc2518448feabe8ebb17730c08c",
        "IPY_MODEL_b6b54f04fe2845fa942ceb5c9d4e2416"
       ],
       "layout": "IPY_MODEL_3f6a0498cf2d48188725a0f5c2920fee"
      }
     },
     "1e0a7f72b90048738b5accc5db202301": {
      "model_module": "@jupyter-widgets/controls",
      "model_module_version": "1.5.0",
      "model_name": "DescriptionStyleModel",
      "state": {
       "_model_module": "@jupyter-widgets/controls",
       "_model_module_version": "1.5.0",
       "_model_name": "DescriptionStyleModel",
       "_view_count": null,
       "_view_module": "@jupyter-widgets/base",
       "_view_module_version": "1.2.0",
       "_view_name": "StyleView",
       "description_width": ""
      }
     },
     "1f26b5c82f2e4516afe7d4e5f609c8a4": {
      "model_module": "@jupyter-widgets/controls",
      "model_module_version": "1.5.0",
      "model_name": "HBoxModel",
      "state": {
       "_dom_classes": [],
       "_model_module": "@jupyter-widgets/controls",
       "_model_module_version": "1.5.0",
       "_model_name": "HBoxModel",
       "_view_count": null,
       "_view_module": "@jupyter-widgets/controls",
       "_view_module_version": "1.5.0",
       "_view_name": "HBoxView",
       "box_style": "",
       "children": [
        "IPY_MODEL_893ad8680a5840ab9dee771a4c8f9cd4",
        "IPY_MODEL_986a260f99314c28908b0f72a1b11e83",
        "IPY_MODEL_7a4683b9412e42868c74ca1bfa854fec"
       ],
       "layout": "IPY_MODEL_83ca44f3939647f29d7a033720177575"
      }
     },
     "20ec17c487334e44bc7d6fd1941bde23": {
      "model_module": "@jupyter-widgets/controls",
      "model_module_version": "1.5.0",
      "model_name": "ProgressStyleModel",
      "state": {
       "_model_module": "@jupyter-widgets/controls",
       "_model_module_version": "1.5.0",
       "_model_name": "ProgressStyleModel",
       "_view_count": null,
       "_view_module": "@jupyter-widgets/base",
       "_view_module_version": "1.2.0",
       "_view_name": "StyleView",
       "bar_color": null,
       "description_width": ""
      }
     },
     "22dfd3e017f94284ae509de2510ee79f": {
      "model_module": "@jupyter-widgets/controls",
      "model_module_version": "1.5.0",
      "model_name": "FloatProgressModel",
      "state": {
       "_dom_classes": [],
       "_model_module": "@jupyter-widgets/controls",
       "_model_module_version": "1.5.0",
       "_model_name": "FloatProgressModel",
       "_view_count": null,
       "_view_module": "@jupyter-widgets/controls",
       "_view_module_version": "1.5.0",
       "_view_name": "ProgressView",
       "bar_style": "success",
       "description": "",
       "description_tooltip": null,
       "layout": "IPY_MODEL_5e86f31095034812b21dbe2d50b286fe",
       "max": 145063,
       "min": 0,
       "orientation": "horizontal",
       "style": "IPY_MODEL_20ec17c487334e44bc7d6fd1941bde23",
       "value": 145063
      }
     },
     "28aa958aa2b04ee6b33fa37f862d6fb1": {
      "model_module": "@jupyter-widgets/controls",
      "model_module_version": "1.5.0",
      "model_name": "DescriptionStyleModel",
      "state": {
       "_model_module": "@jupyter-widgets/controls",
       "_model_module_version": "1.5.0",
       "_model_name": "DescriptionStyleModel",
       "_view_count": null,
       "_view_module": "@jupyter-widgets/base",
       "_view_module_version": "1.2.0",
       "_view_name": "StyleView",
       "description_width": ""
      }
     },
     "28dfdbf1450a4d57b99b6bae5d7ebee7": {
      "model_module": "@jupyter-widgets/base",
      "model_module_version": "1.2.0",
      "model_name": "LayoutModel",
      "state": {
       "_model_module": "@jupyter-widgets/base",
       "_model_module_version": "1.2.0",
       "_model_name": "LayoutModel",
       "_view_count": null,
       "_view_module": "@jupyter-widgets/base",
       "_view_module_version": "1.2.0",
       "_view_name": "LayoutView",
       "align_content": null,
       "align_items": null,
       "align_self": null,
       "border": null,
       "bottom": null,
       "display": null,
       "flex": null,
       "flex_flow": null,
       "grid_area": null,
       "grid_auto_columns": null,
       "grid_auto_flow": null,
       "grid_auto_rows": null,
       "grid_column": null,
       "grid_gap": null,
       "grid_row": null,
       "grid_template_areas": null,
       "grid_template_columns": null,
       "grid_template_rows": null,
       "height": null,
       "justify_content": null,
       "justify_items": null,
       "left": null,
       "margin": null,
       "max_height": null,
       "max_width": null,
       "min_height": null,
       "min_width": null,
       "object_fit": null,
       "object_position": null,
       "order": null,
       "overflow": null,
       "overflow_x": null,
       "overflow_y": null,
       "padding": null,
       "right": null,
       "top": null,
       "visibility": null,
       "width": null
      }
     },
     "29fe6ecdb5e842b39477650e51a9ead6": {
      "model_module": "@jupyter-widgets/base",
      "model_module_version": "1.2.0",
      "model_name": "LayoutModel",
      "state": {
       "_model_module": "@jupyter-widgets/base",
       "_model_module_version": "1.2.0",
       "_model_name": "LayoutModel",
       "_view_count": null,
       "_view_module": "@jupyter-widgets/base",
       "_view_module_version": "1.2.0",
       "_view_name": "LayoutView",
       "align_content": null,
       "align_items": null,
       "align_self": null,
       "border": null,
       "bottom": null,
       "display": null,
       "flex": null,
       "flex_flow": null,
       "grid_area": null,
       "grid_auto_columns": null,
       "grid_auto_flow": null,
       "grid_auto_rows": null,
       "grid_column": null,
       "grid_gap": null,
       "grid_row": null,
       "grid_template_areas": null,
       "grid_template_columns": null,
       "grid_template_rows": null,
       "height": null,
       "justify_content": null,
       "justify_items": null,
       "left": null,
       "margin": null,
       "max_height": null,
       "max_width": null,
       "min_height": null,
       "min_width": null,
       "object_fit": null,
       "object_position": null,
       "order": null,
       "overflow": null,
       "overflow_x": null,
       "overflow_y": null,
       "padding": null,
       "right": null,
       "top": null,
       "visibility": null,
       "width": null
      }
     },
     "37b6fd56c4e84cbe8eab13dec1cc57ea": {
      "model_module": "@jupyter-widgets/controls",
      "model_module_version": "1.5.0",
      "model_name": "ProgressStyleModel",
      "state": {
       "_model_module": "@jupyter-widgets/controls",
       "_model_module_version": "1.5.0",
       "_model_name": "ProgressStyleModel",
       "_view_count": null,
       "_view_module": "@jupyter-widgets/base",
       "_view_module_version": "1.2.0",
       "_view_name": "StyleView",
       "bar_color": null,
       "description_width": ""
      }
     },
     "3b996cc2518448feabe8ebb17730c08c": {
      "model_module": "@jupyter-widgets/controls",
      "model_module_version": "1.5.0",
      "model_name": "FloatProgressModel",
      "state": {
       "_dom_classes": [],
       "_model_module": "@jupyter-widgets/controls",
       "_model_module_version": "1.5.0",
       "_model_name": "FloatProgressModel",
       "_view_count": null,
       "_view_module": "@jupyter-widgets/controls",
       "_view_module_version": "1.5.0",
       "_view_name": "ProgressView",
       "bar_style": "success",
       "description": "",
       "description_tooltip": null,
       "layout": "IPY_MODEL_bc03da283ed3497a9f7d0a6d86bd3e97",
       "max": 8993906,
       "min": 0,
       "orientation": "horizontal",
       "style": "IPY_MODEL_37b6fd56c4e84cbe8eab13dec1cc57ea",
       "value": 8993906
      }
     },
     "3f6a0498cf2d48188725a0f5c2920fee": {
      "model_module": "@jupyter-widgets/base",
      "model_module_version": "1.2.0",
      "model_name": "LayoutModel",
      "state": {
       "_model_module": "@jupyter-widgets/base",
       "_model_module_version": "1.2.0",
       "_model_name": "LayoutModel",
       "_view_count": null,
       "_view_module": "@jupyter-widgets/base",
       "_view_module_version": "1.2.0",
       "_view_name": "LayoutView",
       "align_content": null,
       "align_items": null,
       "align_self": null,
       "border": null,
       "bottom": null,
       "display": null,
       "flex": null,
       "flex_flow": null,
       "grid_area": null,
       "grid_auto_columns": null,
       "grid_auto_flow": null,
       "grid_auto_rows": null,
       "grid_column": null,
       "grid_gap": null,
       "grid_row": null,
       "grid_template_areas": null,
       "grid_template_columns": null,
       "grid_template_rows": null,
       "height": null,
       "justify_content": null,
       "justify_items": null,
       "left": null,
       "margin": null,
       "max_height": null,
       "max_width": null,
       "min_height": null,
       "min_width": null,
       "object_fit": null,
       "object_position": null,
       "order": null,
       "overflow": null,
       "overflow_x": null,
       "overflow_y": null,
       "padding": null,
       "right": null,
       "top": null,
       "visibility": null,
       "width": null
      }
     },
     "46f22f6fb9cf4959b8137f2469b5588a": {
      "model_module": "@jupyter-widgets/base",
      "model_module_version": "1.2.0",
      "model_name": "LayoutModel",
      "state": {
       "_model_module": "@jupyter-widgets/base",
       "_model_module_version": "1.2.0",
       "_model_name": "LayoutModel",
       "_view_count": null,
       "_view_module": "@jupyter-widgets/base",
       "_view_module_version": "1.2.0",
       "_view_name": "LayoutView",
       "align_content": null,
       "align_items": null,
       "align_self": null,
       "border": null,
       "bottom": null,
       "display": null,
       "flex": null,
       "flex_flow": null,
       "grid_area": null,
       "grid_auto_columns": null,
       "grid_auto_flow": null,
       "grid_auto_rows": null,
       "grid_column": null,
       "grid_gap": null,
       "grid_row": null,
       "grid_template_areas": null,
       "grid_template_columns": null,
       "grid_template_rows": null,
       "height": null,
       "justify_content": null,
       "justify_items": null,
       "left": null,
       "margin": null,
       "max_height": null,
       "max_width": null,
       "min_height": null,
       "min_width": null,
       "object_fit": null,
       "object_position": null,
       "order": null,
       "overflow": null,
       "overflow_x": null,
       "overflow_y": null,
       "padding": null,
       "right": null,
       "top": null,
       "visibility": null,
       "width": null
      }
     },
     "5180b58ad20e4fef80f3bfc4e9289e9c": {
      "model_module": "@jupyter-widgets/controls",
      "model_module_version": "1.5.0",
      "model_name": "HTMLModel",
      "state": {
       "_dom_classes": [],
       "_model_module": "@jupyter-widgets/controls",
       "_model_module_version": "1.5.0",
       "_model_name": "HTMLModel",
       "_view_count": null,
       "_view_module": "@jupyter-widgets/controls",
       "_view_module_version": "1.5.0",
       "_view_name": "HTMLView",
       "description": "",
       "description_tooltip": null,
       "layout": "IPY_MODEL_d1727e3d3b2241fb90df81cdc21debb1",
       "placeholder": "​",
       "style": "IPY_MODEL_1e0a7f72b90048738b5accc5db202301",
       "value": "100%"
      }
     },
     "5e86f31095034812b21dbe2d50b286fe": {
      "model_module": "@jupyter-widgets/base",
      "model_module_version": "1.2.0",
      "model_name": "LayoutModel",
      "state": {
       "_model_module": "@jupyter-widgets/base",
       "_model_module_version": "1.2.0",
       "_model_name": "LayoutModel",
       "_view_count": null,
       "_view_module": "@jupyter-widgets/base",
       "_view_module_version": "1.2.0",
       "_view_name": "LayoutView",
       "align_content": null,
       "align_items": null,
       "align_self": null,
       "border": null,
       "bottom": null,
       "display": null,
       "flex": null,
       "flex_flow": null,
       "grid_area": null,
       "grid_auto_columns": null,
       "grid_auto_flow": null,
       "grid_auto_rows": null,
       "grid_column": null,
       "grid_gap": null,
       "grid_row": null,
       "grid_template_areas": null,
       "grid_template_columns": null,
       "grid_template_rows": null,
       "height": null,
       "justify_content": null,
       "justify_items": null,
       "left": null,
       "margin": null,
       "max_height": null,
       "max_width": null,
       "min_height": null,
       "min_width": null,
       "object_fit": null,
       "object_position": null,
       "order": null,
       "overflow": null,
       "overflow_x": null,
       "overflow_y": null,
       "padding": null,
       "right": null,
       "top": null,
       "visibility": null,
       "width": null
      }
     },
     "61a0c00b6ba44ae98174acb98ce8232f": {
      "model_module": "@jupyter-widgets/controls",
      "model_module_version": "1.5.0",
      "model_name": "HTMLModel",
      "state": {
       "_dom_classes": [],
       "_model_module": "@jupyter-widgets/controls",
       "_model_module_version": "1.5.0",
       "_model_name": "HTMLModel",
       "_view_count": null,
       "_view_module": "@jupyter-widgets/controls",
       "_view_module_version": "1.5.0",
       "_view_name": "HTMLView",
       "description": "",
       "description_tooltip": null,
       "layout": "IPY_MODEL_adb003e8f26244f68407448f4dc65cef",
       "placeholder": "​",
       "style": "IPY_MODEL_28aa958aa2b04ee6b33fa37f862d6fb1",
       "value": " 145063/145063 [01:18&lt;00:00, 1879.98it/s]"
      }
     },
     "684766bc0d7847a5a56729244a697dd3": {
      "model_module": "@jupyter-widgets/controls",
      "model_module_version": "1.5.0",
      "model_name": "DescriptionStyleModel",
      "state": {
       "_model_module": "@jupyter-widgets/controls",
       "_model_module_version": "1.5.0",
       "_model_name": "DescriptionStyleModel",
       "_view_count": null,
       "_view_module": "@jupyter-widgets/base",
       "_view_module_version": "1.2.0",
       "_view_name": "StyleView",
       "description_width": ""
      }
     },
     "73487e20d9574b5ca9b83bfca52af200": {
      "model_module": "@jupyter-widgets/controls",
      "model_module_version": "1.5.0",
      "model_name": "DescriptionStyleModel",
      "state": {
       "_model_module": "@jupyter-widgets/controls",
       "_model_module_version": "1.5.0",
       "_model_name": "DescriptionStyleModel",
       "_view_count": null,
       "_view_module": "@jupyter-widgets/base",
       "_view_module_version": "1.2.0",
       "_view_name": "StyleView",
       "description_width": ""
      }
     },
     "7a4683b9412e42868c74ca1bfa854fec": {
      "model_module": "@jupyter-widgets/controls",
      "model_module_version": "1.5.0",
      "model_name": "HTMLModel",
      "state": {
       "_dom_classes": [],
       "_model_module": "@jupyter-widgets/controls",
       "_model_module_version": "1.5.0",
       "_model_name": "HTMLModel",
       "_view_count": null,
       "_view_module": "@jupyter-widgets/controls",
       "_view_module_version": "1.5.0",
       "_view_name": "HTMLView",
       "description": "",
       "description_tooltip": null,
       "layout": "IPY_MODEL_46f22f6fb9cf4959b8137f2469b5588a",
       "placeholder": "​",
       "style": "IPY_MODEL_f5e1d2302465481d9781457d0ec3bc70",
       "value": " 145063/145063 [01:36&lt;00:00, 1468.24it/s]"
      }
     },
     "7b1a6adffba64b139574a7b1357190b6": {
      "model_module": "@jupyter-widgets/controls",
      "model_module_version": "1.5.0",
      "model_name": "HBoxModel",
      "state": {
       "_dom_classes": [],
       "_model_module": "@jupyter-widgets/controls",
       "_model_module_version": "1.5.0",
       "_model_name": "HBoxModel",
       "_view_count": null,
       "_view_module": "@jupyter-widgets/controls",
       "_view_module_version": "1.5.0",
       "_view_name": "HBoxView",
       "box_style": "",
       "children": [
        "IPY_MODEL_5180b58ad20e4fef80f3bfc4e9289e9c",
        "IPY_MODEL_22dfd3e017f94284ae509de2510ee79f",
        "IPY_MODEL_61a0c00b6ba44ae98174acb98ce8232f"
       ],
       "layout": "IPY_MODEL_984d563e01154027a291cfb20091b036"
      }
     },
     "83ca44f3939647f29d7a033720177575": {
      "model_module": "@jupyter-widgets/base",
      "model_module_version": "1.2.0",
      "model_name": "LayoutModel",
      "state": {
       "_model_module": "@jupyter-widgets/base",
       "_model_module_version": "1.2.0",
       "_model_name": "LayoutModel",
       "_view_count": null,
       "_view_module": "@jupyter-widgets/base",
       "_view_module_version": "1.2.0",
       "_view_name": "LayoutView",
       "align_content": null,
       "align_items": null,
       "align_self": null,
       "border": null,
       "bottom": null,
       "display": null,
       "flex": null,
       "flex_flow": null,
       "grid_area": null,
       "grid_auto_columns": null,
       "grid_auto_flow": null,
       "grid_auto_rows": null,
       "grid_column": null,
       "grid_gap": null,
       "grid_row": null,
       "grid_template_areas": null,
       "grid_template_columns": null,
       "grid_template_rows": null,
       "height": null,
       "justify_content": null,
       "justify_items": null,
       "left": null,
       "margin": null,
       "max_height": null,
       "max_width": null,
       "min_height": null,
       "min_width": null,
       "object_fit": null,
       "object_position": null,
       "order": null,
       "overflow": null,
       "overflow_x": null,
       "overflow_y": null,
       "padding": null,
       "right": null,
       "top": null,
       "visibility": null,
       "width": null
      }
     },
     "847dd13ede00439fa7ae2aceca27fbdd": {
      "model_module": "@jupyter-widgets/controls",
      "model_module_version": "1.5.0",
      "model_name": "ProgressStyleModel",
      "state": {
       "_model_module": "@jupyter-widgets/controls",
       "_model_module_version": "1.5.0",
       "_model_name": "ProgressStyleModel",
       "_view_count": null,
       "_view_module": "@jupyter-widgets/base",
       "_view_module_version": "1.2.0",
       "_view_name": "StyleView",
       "bar_color": null,
       "description_width": ""
      }
     },
     "893ad8680a5840ab9dee771a4c8f9cd4": {
      "model_module": "@jupyter-widgets/controls",
      "model_module_version": "1.5.0",
      "model_name": "HTMLModel",
      "state": {
       "_dom_classes": [],
       "_model_module": "@jupyter-widgets/controls",
       "_model_module_version": "1.5.0",
       "_model_name": "HTMLModel",
       "_view_count": null,
       "_view_module": "@jupyter-widgets/controls",
       "_view_module_version": "1.5.0",
       "_view_name": "HTMLView",
       "description": "",
       "description_tooltip": null,
       "layout": "IPY_MODEL_29fe6ecdb5e842b39477650e51a9ead6",
       "placeholder": "​",
       "style": "IPY_MODEL_e1030efad48d478787d67295764a98be",
       "value": "100%"
      }
     },
     "984d563e01154027a291cfb20091b036": {
      "model_module": "@jupyter-widgets/base",
      "model_module_version": "1.2.0",
      "model_name": "LayoutModel",
      "state": {
       "_model_module": "@jupyter-widgets/base",
       "_model_module_version": "1.2.0",
       "_model_name": "LayoutModel",
       "_view_count": null,
       "_view_module": "@jupyter-widgets/base",
       "_view_module_version": "1.2.0",
       "_view_name": "LayoutView",
       "align_content": null,
       "align_items": null,
       "align_self": null,
       "border": null,
       "bottom": null,
       "display": null,
       "flex": null,
       "flex_flow": null,
       "grid_area": null,
       "grid_auto_columns": null,
       "grid_auto_flow": null,
       "grid_auto_rows": null,
       "grid_column": null,
       "grid_gap": null,
       "grid_row": null,
       "grid_template_areas": null,
       "grid_template_columns": null,
       "grid_template_rows": null,
       "height": null,
       "justify_content": null,
       "justify_items": null,
       "left": null,
       "margin": null,
       "max_height": null,
       "max_width": null,
       "min_height": null,
       "min_width": null,
       "object_fit": null,
       "object_position": null,
       "order": null,
       "overflow": null,
       "overflow_x": null,
       "overflow_y": null,
       "padding": null,
       "right": null,
       "top": null,
       "visibility": null,
       "width": null
      }
     },
     "986a260f99314c28908b0f72a1b11e83": {
      "model_module": "@jupyter-widgets/controls",
      "model_module_version": "1.5.0",
      "model_name": "FloatProgressModel",
      "state": {
       "_dom_classes": [],
       "_model_module": "@jupyter-widgets/controls",
       "_model_module_version": "1.5.0",
       "_model_name": "FloatProgressModel",
       "_view_count": null,
       "_view_module": "@jupyter-widgets/controls",
       "_view_module_version": "1.5.0",
       "_view_name": "ProgressView",
       "bar_style": "success",
       "description": "",
       "description_tooltip": null,
       "layout": "IPY_MODEL_bc43ae2ba7c44cd8b5592fa02c2beb17",
       "max": 145063,
       "min": 0,
       "orientation": "horizontal",
       "style": "IPY_MODEL_847dd13ede00439fa7ae2aceca27fbdd",
       "value": 145063
      }
     },
     "adb003e8f26244f68407448f4dc65cef": {
      "model_module": "@jupyter-widgets/base",
      "model_module_version": "1.2.0",
      "model_name": "LayoutModel",
      "state": {
       "_model_module": "@jupyter-widgets/base",
       "_model_module_version": "1.2.0",
       "_model_name": "LayoutModel",
       "_view_count": null,
       "_view_module": "@jupyter-widgets/base",
       "_view_module_version": "1.2.0",
       "_view_name": "LayoutView",
       "align_content": null,
       "align_items": null,
       "align_self": null,
       "border": null,
       "bottom": null,
       "display": null,
       "flex": null,
       "flex_flow": null,
       "grid_area": null,
       "grid_auto_columns": null,
       "grid_auto_flow": null,
       "grid_auto_rows": null,
       "grid_column": null,
       "grid_gap": null,
       "grid_row": null,
       "grid_template_areas": null,
       "grid_template_columns": null,
       "grid_template_rows": null,
       "height": null,
       "justify_content": null,
       "justify_items": null,
       "left": null,
       "margin": null,
       "max_height": null,
       "max_width": null,
       "min_height": null,
       "min_width": null,
       "object_fit": null,
       "object_position": null,
       "order": null,
       "overflow": null,
       "overflow_x": null,
       "overflow_y": null,
       "padding": null,
       "right": null,
       "top": null,
       "visibility": null,
       "width": null
      }
     },
     "b6b54f04fe2845fa942ceb5c9d4e2416": {
      "model_module": "@jupyter-widgets/controls",
      "model_module_version": "1.5.0",
      "model_name": "HTMLModel",
      "state": {
       "_dom_classes": [],
       "_model_module": "@jupyter-widgets/controls",
       "_model_module_version": "1.5.0",
       "_model_name": "HTMLModel",
       "_view_count": null,
       "_view_module": "@jupyter-widgets/controls",
       "_view_module_version": "1.5.0",
       "_view_name": "HTMLView",
       "description": "",
       "description_tooltip": null,
       "layout": "IPY_MODEL_28dfdbf1450a4d57b99b6bae5d7ebee7",
       "placeholder": "​",
       "style": "IPY_MODEL_684766bc0d7847a5a56729244a697dd3",
       "value": " 8993906/8993906 [03:59&lt;00:00, 37789.84it/s]"
      }
     },
     "bc03da283ed3497a9f7d0a6d86bd3e97": {
      "model_module": "@jupyter-widgets/base",
      "model_module_version": "1.2.0",
      "model_name": "LayoutModel",
      "state": {
       "_model_module": "@jupyter-widgets/base",
       "_model_module_version": "1.2.0",
       "_model_name": "LayoutModel",
       "_view_count": null,
       "_view_module": "@jupyter-widgets/base",
       "_view_module_version": "1.2.0",
       "_view_name": "LayoutView",
       "align_content": null,
       "align_items": null,
       "align_self": null,
       "border": null,
       "bottom": null,
       "display": null,
       "flex": null,
       "flex_flow": null,
       "grid_area": null,
       "grid_auto_columns": null,
       "grid_auto_flow": null,
       "grid_auto_rows": null,
       "grid_column": null,
       "grid_gap": null,
       "grid_row": null,
       "grid_template_areas": null,
       "grid_template_columns": null,
       "grid_template_rows": null,
       "height": null,
       "justify_content": null,
       "justify_items": null,
       "left": null,
       "margin": null,
       "max_height": null,
       "max_width": null,
       "min_height": null,
       "min_width": null,
       "object_fit": null,
       "object_position": null,
       "order": null,
       "overflow": null,
       "overflow_x": null,
       "overflow_y": null,
       "padding": null,
       "right": null,
       "top": null,
       "visibility": null,
       "width": null
      }
     },
     "bc43ae2ba7c44cd8b5592fa02c2beb17": {
      "model_module": "@jupyter-widgets/base",
      "model_module_version": "1.2.0",
      "model_name": "LayoutModel",
      "state": {
       "_model_module": "@jupyter-widgets/base",
       "_model_module_version": "1.2.0",
       "_model_name": "LayoutModel",
       "_view_count": null,
       "_view_module": "@jupyter-widgets/base",
       "_view_module_version": "1.2.0",
       "_view_name": "LayoutView",
       "align_content": null,
       "align_items": null,
       "align_self": null,
       "border": null,
       "bottom": null,
       "display": null,
       "flex": null,
       "flex_flow": null,
       "grid_area": null,
       "grid_auto_columns": null,
       "grid_auto_flow": null,
       "grid_auto_rows": null,
       "grid_column": null,
       "grid_gap": null,
       "grid_row": null,
       "grid_template_areas": null,
       "grid_template_columns": null,
       "grid_template_rows": null,
       "height": null,
       "justify_content": null,
       "justify_items": null,
       "left": null,
       "margin": null,
       "max_height": null,
       "max_width": null,
       "min_height": null,
       "min_width": null,
       "object_fit": null,
       "object_position": null,
       "order": null,
       "overflow": null,
       "overflow_x": null,
       "overflow_y": null,
       "padding": null,
       "right": null,
       "top": null,
       "visibility": null,
       "width": null
      }
     },
     "d1727e3d3b2241fb90df81cdc21debb1": {
      "model_module": "@jupyter-widgets/base",
      "model_module_version": "1.2.0",
      "model_name": "LayoutModel",
      "state": {
       "_model_module": "@jupyter-widgets/base",
       "_model_module_version": "1.2.0",
       "_model_name": "LayoutModel",
       "_view_count": null,
       "_view_module": "@jupyter-widgets/base",
       "_view_module_version": "1.2.0",
       "_view_name": "LayoutView",
       "align_content": null,
       "align_items": null,
       "align_self": null,
       "border": null,
       "bottom": null,
       "display": null,
       "flex": null,
       "flex_flow": null,
       "grid_area": null,
       "grid_auto_columns": null,
       "grid_auto_flow": null,
       "grid_auto_rows": null,
       "grid_column": null,
       "grid_gap": null,
       "grid_row": null,
       "grid_template_areas": null,
       "grid_template_columns": null,
       "grid_template_rows": null,
       "height": null,
       "justify_content": null,
       "justify_items": null,
       "left": null,
       "margin": null,
       "max_height": null,
       "max_width": null,
       "min_height": null,
       "min_width": null,
       "object_fit": null,
       "object_position": null,
       "order": null,
       "overflow": null,
       "overflow_x": null,
       "overflow_y": null,
       "padding": null,
       "right": null,
       "top": null,
       "visibility": null,
       "width": null
      }
     },
     "d639415dd3384bfa8791a5eeba62a743": {
      "model_module": "@jupyter-widgets/base",
      "model_module_version": "1.2.0",
      "model_name": "LayoutModel",
      "state": {
       "_model_module": "@jupyter-widgets/base",
       "_model_module_version": "1.2.0",
       "_model_name": "LayoutModel",
       "_view_count": null,
       "_view_module": "@jupyter-widgets/base",
       "_view_module_version": "1.2.0",
       "_view_name": "LayoutView",
       "align_content": null,
       "align_items": null,
       "align_self": null,
       "border": null,
       "bottom": null,
       "display": null,
       "flex": null,
       "flex_flow": null,
       "grid_area": null,
       "grid_auto_columns": null,
       "grid_auto_flow": null,
       "grid_auto_rows": null,
       "grid_column": null,
       "grid_gap": null,
       "grid_row": null,
       "grid_template_areas": null,
       "grid_template_columns": null,
       "grid_template_rows": null,
       "height": null,
       "justify_content": null,
       "justify_items": null,
       "left": null,
       "margin": null,
       "max_height": null,
       "max_width": null,
       "min_height": null,
       "min_width": null,
       "object_fit": null,
       "object_position": null,
       "order": null,
       "overflow": null,
       "overflow_x": null,
       "overflow_y": null,
       "padding": null,
       "right": null,
       "top": null,
       "visibility": null,
       "width": null
      }
     },
     "e1030efad48d478787d67295764a98be": {
      "model_module": "@jupyter-widgets/controls",
      "model_module_version": "1.5.0",
      "model_name": "DescriptionStyleModel",
      "state": {
       "_model_module": "@jupyter-widgets/controls",
       "_model_module_version": "1.5.0",
       "_model_name": "DescriptionStyleModel",
       "_view_count": null,
       "_view_module": "@jupyter-widgets/base",
       "_view_module_version": "1.2.0",
       "_view_name": "StyleView",
       "description_width": ""
      }
     },
     "f08114a108ea4f1ea4806fc8c9367e9c": {
      "model_module": "@jupyter-widgets/controls",
      "model_module_version": "1.5.0",
      "model_name": "HTMLModel",
      "state": {
       "_dom_classes": [],
       "_model_module": "@jupyter-widgets/controls",
       "_model_module_version": "1.5.0",
       "_model_name": "HTMLModel",
       "_view_count": null,
       "_view_module": "@jupyter-widgets/controls",
       "_view_module_version": "1.5.0",
       "_view_name": "HTMLView",
       "description": "",
       "description_tooltip": null,
       "layout": "IPY_MODEL_d639415dd3384bfa8791a5eeba62a743",
       "placeholder": "​",
       "style": "IPY_MODEL_73487e20d9574b5ca9b83bfca52af200",
       "value": "100%"
      }
     },
     "f5e1d2302465481d9781457d0ec3bc70": {
      "model_module": "@jupyter-widgets/controls",
      "model_module_version": "1.5.0",
      "model_name": "DescriptionStyleModel",
      "state": {
       "_model_module": "@jupyter-widgets/controls",
       "_model_module_version": "1.5.0",
       "_model_name": "DescriptionStyleModel",
       "_view_count": null,
       "_view_module": "@jupyter-widgets/base",
       "_view_module_version": "1.2.0",
       "_view_name": "StyleView",
       "description_width": ""
      }
     }
    },
    "version_major": 2,
    "version_minor": 0
   }
  }
 },
 "nbformat": 4,
 "nbformat_minor": 5
}
